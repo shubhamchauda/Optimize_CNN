{
 "cells": [
  {
   "cell_type": "markdown",
   "execution_count": null,
   "metadata": {},
   "source": [
    "# Import libraries"
   ]
  },
  {
   "cell_type": "code",
   "execution_count": 1,
   "metadata": {
    "_cell_guid": "b1076dfc-b9ad-4769-8c92-a6c4dae69d19",
    "_uuid": "8f2839f25d086af736a60e9eeb907d3b93b6e0e5"
   },
   "outputs": [
    {
     "name": "stdout",
     "output_type": "stream",
     "text": [
      "['/kaggle/input/fashionmnist/t10k-labels-idx1-ubyte', '/kaggle/input/fashionmnist/train-labels-idx1-ubyte', '/kaggle/input/fashionmnist/fashion-mnist_test.csv', '/kaggle/input/fashionmnist/train-images-idx3-ubyte', '/kaggle/input/fashionmnist/t10k-images-idx3-ubyte', '/kaggle/input/fashionmnist/fashion-mnist_train.csv']\n"
     ]
    }
   ],
   "source": [
    "# This Python 3 environment comes with many helpful analytics libraries installed\n",
    "# It is defined by the kaggle/python Docker image: https://github.com/kaggle/docker-python\n",
    "# For example, here's several helpful packages to load\n",
    "\n",
    "import numpy as np # linear algebra\n",
    "import pandas as pd # data processing, CSV file I/O (e.g. pd.read_csv)\n",
    "import matplotlib.pyplot as plt\n",
    "from tensorflow import keras\n",
    "from kerastuner import RandomSearch\n",
    "from kerastuner.engine.hyperparameters import HyperParameters\n",
    "\n",
    "# Input data files are available in the read-only \"../input/\" directory\n",
    "# For example, running this (by clicking run or pressing Shift+Enter) will list all files under the input directory\n",
    "\n",
    "import os\n",
    "url = [] \n",
    "for dirname, _, filenames in os.walk('/kaggle/input'):\n",
    "    for filename in filenames:\n",
    "        url.append(os.path.join(dirname, filename))\n",
    "        \n",
    "print(url)\n",
    "# You can write up to 5GB to the current directory (/kaggle/working/) that gets preserved as output when you create a version using \"Save & Run All\" \n",
    "# You can also write temporary files to /kaggle/temp/, but they won't be saved outside of the current session"
   ]
  },
  {
   "cell_type": "markdown",
   "execution_count": null,
   "metadata": {},
   "source": [
    "# *Read data*"
   ]
  },
  {
   "cell_type": "code",
   "execution_count": 2,
   "metadata": {
    "_cell_guid": "79c7e3d0-c299-4dcb-8224-4455121ee9b0",
    "_uuid": "d629ff2d2480ee46fbb7e2d37f6b5fab8052498a"
   },
   "outputs": [
    {
     "data": {
      "text/plain": [
       "<matplotlib.image.AxesImage at 0x7ff724c364d0>"
      ]
     },
     "execution_count": 2,
     "metadata": {},
     "output_type": "execute_result"
    },
    {
     "data": {
      "image/png": "[encoded data removed]",
      "text/plain": [
       "<Figure size 432x288 with 1 Axes>"
      ]
     },
     "metadata": {
      "needs_background": "light"
     },
     "output_type": "display_data"
    }
   ],
   "source": [
    "train = pd.read_csv('/kaggle/input/fashionmnist/fashion-mnist_train.csv')\n",
    "test = pd.read_csv('/kaggle/input/fashionmnist/fashion-mnist_test.csv')\n",
    "\n",
    "train_label = train['label']\n",
    "test_label =  test['label']\n",
    "disp = train.iloc[5000].values[1:]\n",
    "plt.imshow(disp.reshape((28,28)))\n",
    "\n",
    "\n"
   ]
  },
  {
   "cell_type": "markdown",
   "execution_count": null,
   "metadata": {},
   "source": [
    "# Prepare Data \n",
    "prepare data to fit model \n"
   ]
  },
  {
   "cell_type": "code",
   "execution_count": 3,
   "metadata": {},
   "outputs": [
    {
     "data": {
      "text/plain": [
       "(10000, 28, 28, 1)"
      ]
     },
     "execution_count": 3,
     "metadata": {},
     "output_type": "execute_result"
    }
   ],
   "source": [
    "X = train.copy()\n",
    "X_test = test.copy()\n",
    "X_train = (X.drop('label',axis =1)).to_numpy()\n",
    "X_test = (X_test.drop('label',axis = 1)).to_numpy()\n",
    "\n",
    "y_train_label = train_label.to_numpy()\n",
    "y_test_label= test_label.to_numpy()\n",
    "\n",
    "X_train = X_train/255\n",
    "X_train = X_train.reshape(60000,28,28,1)\n",
    "X_test = X_test.reshape(len(X_test),28,28,1)\n",
    "X_test.shape"
   ]
  },
  {
   "cell_type": "markdown",
   "execution_count": null,
   "metadata": {},
   "source": [
    "# Build Model \n",
    "this is our model "
   ]
  },
  {
   "cell_type": "code",
   "execution_count": 4,
   "metadata": {},
   "outputs": [],
   "source": [
    "def build_model(hp):\n",
    "\n",
    "    model = keras.Sequential([\n",
    "        keras.layers.Conv2D(\n",
    "                            filters = hp.Int('layer_1_filter',min_value=32, max_value=128,step= 16),\n",
    "                            kernel_size = hp.Choice('layer_1_kernel',values = [3,4]),\n",
    "                            activation = 'relu',\n",
    "                            input_shape = (28,28,1)                            \n",
    "                            ),\n",
    "        keras.layers.Conv2D(\n",
    "                            filters = hp.Int('layer_2_filter',min_value=32, max_value=128,step= 16),\n",
    "                            kernel_size = hp.Choice('layer_2_kernel',values = [3,4]),\n",
    "                            activation = 'relu'                          \n",
    "                            ),\n",
    "        keras.layers.Flatten(),\n",
    "        keras.layers.Dense(\n",
    "                            units = hp.Int('dense_unit_1',min_value=32,max_value=128,step = 16),\n",
    "                            activation = 'relu'\n",
    "                          ),\n",
    "        \n",
    "        keras.layers.Dense(10,activation = 'softmax')\n",
    "       ])\n",
    "    \n",
    "    model.compile(optimizer=keras.optimizers.Adam(hp.Choice('learning-rate',values=[1e-2, 1e-3])),\n",
    "                                                  loss ='sparse_categorical_crossentropy',metrics=['accuracy']) \n",
    "    \n",
    "    return model"
   ]
  },
  {
   "cell_type": "markdown",
   "execution_count": null,
   "metadata": {},
   "source": [
    "# Searching for best model\n",
    "In this we are searching for best model with best perems  "
   ]
  },
  {
   "cell_type": "code",
   "execution_count": 5,
   "metadata": {},
   "outputs": [
    {
     "name": "stdout",
     "output_type": "stream",
     "text": [
      "Epoch 1/3\n",
      "1688/1688 [==============================] - 7s 4ms/step - loss: 0.3819 - accuracy: 0.8638 - val_loss: 0.2836 - val_accuracy: 0.9002\n",
      "Epoch 2/3\n",
      "1688/1688 [==============================] - 7s 4ms/step - loss: 0.2349 - accuracy: 0.9141 - val_loss: 0.2501 - val_accuracy: 0.9090\n",
      "Epoch 3/3\n",
      "1688/1688 [==============================] - 7s 4ms/step - loss: 0.1701 - accuracy: 0.9372 - val_loss: 0.2317 - val_accuracy: 0.9205\n"
     ]
    },
    {
     "data": {
      "text/html": [
       "<span style=\"color:#4527A0\"><h1 style=\"font-size:18px\">Trial complete</h1></span>"
      ],
      "text/plain": [
       "<IPython.core.display.HTML object>"
      ]
     },
     "metadata": {},
     "output_type": "display_data"
    },
    {
     "data": {
      "text/html": [
       "<span style=\"color:#4527A0\"><h1 style=\"font-size:18px\">Trial summary</h1></span>"
      ],
      "text/plain": [
       "<IPython.core.display.HTML object>"
      ]
     },
     "metadata": {},
     "output_type": "display_data"
    },
    {
     "data": {
      "text/html": [
       "<span style=\"color:cyan\"> |-Trial ID: ed9156f9fac64e1a49a29363288d48cd</span>"
      ],
      "text/plain": [
       "<IPython.core.display.HTML object>"
      ]
     },
     "metadata": {},
     "output_type": "display_data"
    },
    {
     "data": {
      "text/html": [
       "<span style=\"color:cyan\"> |-Score: 0.9204999804496765</span>"
      ],
      "text/plain": [
       "<IPython.core.display.HTML object>"
      ]
     },
     "metadata": {},
     "output_type": "display_data"
    },
    {
     "data": {
      "text/html": [
       "<span style=\"color:cyan\"> |-Best step: 0</span>"
      ],
      "text/plain": [
       "<IPython.core.display.HTML object>"
      ]
     },
     "metadata": {},
     "output_type": "display_data"
    },
    {
     "data": {
      "text/html": [
       "<span style=\"color:#7E57C2\"><h2 style=\"font-size:16px\">Hyperparameters:</h2></span>"
      ],
      "text/plain": [
       "<IPython.core.display.HTML object>"
      ]
     },
     "metadata": {},
     "output_type": "display_data"
    },
    {
     "data": {
      "text/html": [
       "<span style=\"color:cyan\"> |-dense_unit_1: 48</span>"
      ],
      "text/plain": [
       "<IPython.core.display.HTML object>"
      ]
     },
     "metadata": {},
     "output_type": "display_data"
    },
    {
     "data": {
      "text/html": [
       "<span style=\"color:blue\"> |-layer_1_filter: 32</span>"
      ],
      "text/plain": [
       "<IPython.core.display.HTML object>"
      ]
     },
     "metadata": {},
     "output_type": "display_data"
    },
    {
     "data": {
      "text/html": [
       "<span style=\"color:cyan\"> |-layer_1_kernel: 3</span>"
      ],
      "text/plain": [
       "<IPython.core.display.HTML object>"
      ]
     },
     "metadata": {},
     "output_type": "display_data"
    },
    {
     "data": {
      "text/html": [
       "<span style=\"color:blue\"> |-layer_2_filter: 96</span>"
      ],
      "text/plain": [
       "<IPython.core.display.HTML object>"
      ]
     },
     "metadata": {},
     "output_type": "display_data"
    },
    {
     "data": {
      "text/html": [
       "<span style=\"color:cyan\"> |-layer_2_kernel: 3</span>"
      ],
      "text/plain": [
       "<IPython.core.display.HTML object>"
      ]
     },
     "metadata": {},
     "output_type": "display_data"
    },
    {
     "data": {
      "text/html": [
       "<span style=\"color:blue\"> |-learning-rate: 0.001</span>"
      ],
      "text/plain": [
       "<IPython.core.display.HTML object>"
      ]
     },
     "metadata": {},
     "output_type": "display_data"
    },
    {
     "name": "stdout",
     "output_type": "stream",
     "text": [
      "Epoch 1/3\n",
      "1688/1688 [==============================] - 9s 5ms/step - loss: 0.4661 - accuracy: 0.8389 - val_loss: 0.3518 - val_accuracy: 0.8727\n",
      "Epoch 2/3\n",
      "1688/1688 [==============================] - 8s 5ms/step - loss: 0.3224 - accuracy: 0.8835 - val_loss: 0.3249 - val_accuracy: 0.8855\n",
      "Epoch 3/3\n",
      "1688/1688 [==============================] - 8s 5ms/step - loss: 0.2742 - accuracy: 0.8992 - val_loss: 0.3285 - val_accuracy: 0.8877\n"
     ]
    },
    {
     "data": {
      "text/html": [
       "<span style=\"color:#4527A0\"><h1 style=\"font-size:18px\">Trial complete</h1></span>"
      ],
      "text/plain": [
       "<IPython.core.display.HTML object>"
      ]
     },
     "metadata": {},
     "output_type": "display_data"
    },
    {
     "data": {
      "text/html": [
       "<span style=\"color:#4527A0\"><h1 style=\"font-size:18px\">Trial summary</h1></span>"
      ],
      "text/plain": [
       "<IPython.core.display.HTML object>"
      ]
     },
     "metadata": {},
     "output_type": "display_data"
    },
    {
     "data": {
      "text/html": [
       "<span style=\"color:cyan\"> |-Trial ID: b42478cf8ea76258c0b733359e31d897</span>"
      ],
      "text/plain": [
       "<IPython.core.display.HTML object>"
      ]
     },
     "metadata": {},
     "output_type": "display_data"
    },
    {
     "data": {
      "text/html": [
       "<span style=\"color:cyan\"> |-Score: 0.887666642665863</span>"
      ],
      "text/plain": [
       "<IPython.core.display.HTML object>"
      ]
     },
     "metadata": {},
     "output_type": "display_data"
    },
    {
     "data": {
      "text/html": [
       "<span style=\"color:cyan\"> |-Best step: 0</span>"
      ],
      "text/plain": [
       "<IPython.core.display.HTML object>"
      ]
     },
     "metadata": {},
     "output_type": "display_data"
    },
    {
     "data": {
      "text/html": [
       "<span style=\"color:#7E57C2\"><h2 style=\"font-size:16px\">Hyperparameters:</h2></span>"
      ],
      "text/plain": [
       "<IPython.core.display.HTML object>"
      ]
     },
     "metadata": {},
     "output_type": "display_data"
    },
    {
     "data": {
      "text/html": [
       "<span style=\"color:cyan\"> |-dense_unit_1: 48</span>"
      ],
      "text/plain": [
       "<IPython.core.display.HTML object>"
      ]
     },
     "metadata": {},
     "output_type": "display_data"
    },
    {
     "data": {
      "text/html": [
       "<span style=\"color:blue\"> |-layer_1_filter: 96</span>"
      ],
      "text/plain": [
       "<IPython.core.display.HTML object>"
      ]
     },
     "metadata": {},
     "output_type": "display_data"
    },
    {
     "data": {
      "text/html": [
       "<span style=\"color:cyan\"> |-layer_1_kernel: 3</span>"
      ],
      "text/plain": [
       "<IPython.core.display.HTML object>"
      ]
     },
     "metadata": {},
     "output_type": "display_data"
    },
    {
     "data": {
      "text/html": [
       "<span style=\"color:blue\"> |-layer_2_filter: 128</span>"
      ],
      "text/plain": [
       "<IPython.core.display.HTML object>"
      ]
     },
     "metadata": {},
     "output_type": "display_data"
    },
    {
     "data": {
      "text/html": [
       "<span style=\"color:cyan\"> |-layer_2_kernel: 3</span>"
      ],
      "text/plain": [
       "<IPython.core.display.HTML object>"
      ]
     },
     "metadata": {},
     "output_type": "display_data"
    },
    {
     "data": {
      "text/html": [
       "<span style=\"color:blue\"> |-learning-rate: 0.01</span>"
      ],
      "text/plain": [
       "<IPython.core.display.HTML object>"
      ]
     },
     "metadata": {},
     "output_type": "display_data"
    },
    {
     "name": "stdout",
     "output_type": "stream",
     "text": [
      "Epoch 1/3\n",
      "1688/1688 [==============================] - 7s 4ms/step - loss: 0.4062 - accuracy: 0.8524 - val_loss: 0.2986 - val_accuracy: 0.8908\n",
      "Epoch 2/3\n",
      "1688/1688 [==============================] - 7s 4ms/step - loss: 0.2622 - accuracy: 0.9042 - val_loss: 0.2736 - val_accuracy: 0.8998\n",
      "Epoch 3/3\n",
      "1688/1688 [==============================] - 7s 4ms/step - loss: 0.2042 - accuracy: 0.9250 - val_loss: 0.2649 - val_accuracy: 0.9057\n"
     ]
    },
    {
     "data": {
      "text/html": [
       "<span style=\"color:#4527A0\"><h1 style=\"font-size:18px\">Trial complete</h1></span>"
      ],
      "text/plain": [
       "<IPython.core.display.HTML object>"
      ]
     },
     "metadata": {},
     "output_type": "display_data"
    },
    {
     "data": {
      "text/html": [
       "<span style=\"color:#4527A0\"><h1 style=\"font-size:18px\">Trial summary</h1></span>"
      ],
      "text/plain": [
       "<IPython.core.display.HTML object>"
      ]
     },
     "metadata": {},
     "output_type": "display_data"
    },
    {
     "data": {
      "text/html": [
       "<span style=\"color:cyan\"> |-Trial ID: 1729f455c6ae652750b71517eb8e0bd1</span>"
      ],
      "text/plain": [
       "<IPython.core.display.HTML object>"
      ]
     },
     "metadata": {},
     "output_type": "display_data"
    },
    {
     "data": {
      "text/html": [
       "<span style=\"color:cyan\"> |-Score: 0.9056666493415833</span>"
      ],
      "text/plain": [
       "<IPython.core.display.HTML object>"
      ]
     },
     "metadata": {},
     "output_type": "display_data"
    },
    {
     "data": {
      "text/html": [
       "<span style=\"color:cyan\"> |-Best step: 0</span>"
      ],
      "text/plain": [
       "<IPython.core.display.HTML object>"
      ]
     },
     "metadata": {},
     "output_type": "display_data"
    },
    {
     "data": {
      "text/html": [
       "<span style=\"color:#7E57C2\"><h2 style=\"font-size:16px\">Hyperparameters:</h2></span>"
      ],
      "text/plain": [
       "<IPython.core.display.HTML object>"
      ]
     },
     "metadata": {},
     "output_type": "display_data"
    },
    {
     "data": {
      "text/html": [
       "<span style=\"color:cyan\"> |-dense_unit_1: 32</span>"
      ],
      "text/plain": [
       "<IPython.core.display.HTML object>"
      ]
     },
     "metadata": {},
     "output_type": "display_data"
    },
    {
     "data": {
      "text/html": [
       "<span style=\"color:blue\"> |-layer_1_filter: 112</span>"
      ],
      "text/plain": [
       "<IPython.core.display.HTML object>"
      ]
     },
     "metadata": {},
     "output_type": "display_data"
    },
    {
     "data": {
      "text/html": [
       "<span style=\"color:cyan\"> |-layer_1_kernel: 3</span>"
      ],
      "text/plain": [
       "<IPython.core.display.HTML object>"
      ]
     },
     "metadata": {},
     "output_type": "display_data"
    },
    {
     "data": {
      "text/html": [
       "<span style=\"color:blue\"> |-layer_2_filter: 48</span>"
      ],
      "text/plain": [
       "<IPython.core.display.HTML object>"
      ]
     },
     "metadata": {},
     "output_type": "display_data"
    },
    {
     "data": {
      "text/html": [
       "<span style=\"color:cyan\"> |-layer_2_kernel: 3</span>"
      ],
      "text/plain": [
       "<IPython.core.display.HTML object>"
      ]
     },
     "metadata": {},
     "output_type": "display_data"
    },
    {
     "data": {
      "text/html": [
       "<span style=\"color:blue\"> |-learning-rate: 0.001</span>"
      ],
      "text/plain": [
       "<IPython.core.display.HTML object>"
      ]
     },
     "metadata": {},
     "output_type": "display_data"
    },
    {
     "name": "stdout",
     "output_type": "stream",
     "text": [
      "Epoch 1/3\n",
      "1688/1688 [==============================] - 9s 6ms/step - loss: 0.5206 - accuracy: 0.8182 - val_loss: 0.4208 - val_accuracy: 0.8423\n",
      "Epoch 2/3\n",
      "1688/1688 [==============================] - 9s 5ms/step - loss: 0.3897 - accuracy: 0.8551 - val_loss: 0.3895 - val_accuracy: 0.8537\n",
      "Epoch 3/3\n",
      " 711/1688 [===========>..................] - ETA: 5s - loss: 0.3734 - accuracy: 0.8597\b\b\b\b\b\b\b\b\b\b\b\b\b\b\b\b\b\b\b\b\b\b\b\b\b\b\b\b\b\b\b\b\b\b\b\b\b\b\b\b\b\b\b\b\b\b\b\b\b\b\b\b\b\b\b\b\b\b\b\b\b\b\b\b\b\b\b\b\b\b\b\b\b\b\b\b\b\b\b\b\b\b\b\b\b\b\r"
     ]
    }
   ],
   "source": [
    "tunersearch = RandomSearch(build_model,objective = 'val_accuracy',max_trials = 5, directory = 'output',project_name = 'Optimize model')\n",
    "tunersearch.search(X_train,y_train_label,epochs =3  ,validation_split=0.1)\n",
    "model=tunersearch.get_best_models(num_models=1)[0]\n",
    "model.summary()\n"
   ]
  },
  {
   "cell_type": "markdown",
   "execution_count": null,
   "metadata": {},
   "source": [
    "# Trained Model\n"
   ]
  },
  {
   "cell_type": "code",
   "execution_count": 6,
   "metadata": {},
   "outputs": [
    {
     "name": "stdout",
     "output_type": "stream",
     "text": [
      "Epoch 4/20\n",
      "1688/1688 [==============================] - 7s 4ms/step - loss: 0.1196 - accuracy: 0.9564 - val_loss: 0.2521 - val_accuracy: 0.9173\n",
      "Epoch 5/20\n",
      "1688/1688 [==============================] - 7s 4ms/step - loss: 0.0787 - accuracy: 0.9715 - val_loss: 0.2861 - val_accuracy: 0.9120\n",
      "Epoch 6/20\n",
      "1688/1688 [==============================] - 7s 4ms/step - loss: 0.0533 - accuracy: 0.9803 - val_loss: 0.3531 - val_accuracy: 0.9142\n",
      "Epoch 7/20\n",
      "1688/1688 [==============================] - 7s 4ms/step - loss: 0.0381 - accuracy: 0.9864 - val_loss: 0.3492 - val_accuracy: 0.9167\n",
      "Epoch 8/20\n",
      "1688/1688 [==============================] - 7s 4ms/step - loss: 0.0294 - accuracy: 0.9893 - val_loss: 0.4557 - val_accuracy: 0.9105\n",
      "Epoch 9/20\n",
      "1688/1688 [==============================] - 7s 4ms/step - loss: 0.0222 - accuracy: 0.9919 - val_loss: 0.5229 - val_accuracy: 0.9073\n",
      "Epoch 10/20\n",
      "1688/1688 [==============================] - 7s 4ms/step - loss: 0.0194 - accuracy: 0.9929 - val_loss: 0.5743 - val_accuracy: 0.9042\n",
      "Epoch 11/20\n",
      "1688/1688 [==============================] - 7s 4ms/step - loss: 0.0194 - accuracy: 0.9938 - val_loss: 0.5526 - val_accuracy: 0.9118\n",
      "Epoch 12/20\n",
      "1688/1688 [==============================] - 7s 4ms/step - loss: 0.0149 - accuracy: 0.9950 - val_loss: 0.4958 - val_accuracy: 0.9175\n",
      "Epoch 13/20\n",
      "1688/1688 [==============================] - 7s 4ms/step - loss: 0.0148 - accuracy: 0.9951 - val_loss: 0.5820 - val_accuracy: 0.9057\n",
      "Epoch 14/20\n",
      "1688/1688 [==============================] - 7s 4ms/step - loss: 0.0124 - accuracy: 0.9957 - val_loss: 0.6015 - val_accuracy: 0.9152\n",
      "Epoch 15/20\n",
      "1688/1688 [==============================] - 7s 4ms/step - loss: 0.0124 - accuracy: 0.9957 - val_loss: 0.6920 - val_accuracy: 0.9125\n",
      "Epoch 16/20\n",
      "1688/1688 [==============================] - 7s 4ms/step - loss: 0.0153 - accuracy: 0.9949 - val_loss: 0.6838 - val_accuracy: 0.9152\n",
      "Epoch 17/20\n",
      "1688/1688 [==============================] - 7s 4ms/step - loss: 0.0101 - accuracy: 0.9967 - val_loss: 0.7919 - val_accuracy: 0.9067\n",
      "Epoch 18/20\n",
      "1688/1688 [==============================] - 7s 4ms/step - loss: 0.0108 - accuracy: 0.9964 - val_loss: 0.7155 - val_accuracy: 0.9132\n",
      "Epoch 19/20\n",
      "1688/1688 [==============================] - 7s 4ms/step - loss: 0.0097 - accuracy: 0.9967 - val_loss: 0.7938 - val_accuracy: 0.9160\n",
      "Epoch 20/20\n",
      "1688/1688 [==============================] - 7s 4ms/step - loss: 0.0104 - accuracy: 0.9966 - val_loss: 0.7272 - val_accuracy: 0.9125\n"
     ]
    },
    {
     "data": {
      "text/plain": [
       "<tensorflow.python.keras.callbacks.History at 0x7ff724cc5c10>"
      ]
     },
     "execution_count": 6,
     "metadata": {},
     "output_type": "execute_result"
    }
   ],
   "source": [
    "model.fit(X_train,y_train_label, epochs=20, validation_split=0.1, initial_epoch=3)"
   ]
  },
  {
   "cell_type": "markdown",
   "execution_count": null,
   "metadata": {},
   "source": [
    "# Evaluate Model\n",
    "Evaluate model with test data"
   ]
  },
  {
   "cell_type": "code",
   "execution_count": 7,
   "metadata": {},
   "outputs": [
    {
     "name": "stdout",
     "output_type": "stream",
     "text": [
      "313/313 - 1s - loss: 301.4277 - accuracy: 0.8433\n",
      "test acc -  0.8432999849319458\n"
     ]
    }
   ],
   "source": [
    "\n",
    "test_loss, test_acc = model.evaluate(X_test,y_test_label, verbose=2)\n",
    "print ('test acc - ',test_acc)"
   ]
  }
 ],
 "metadata": {
  "kernelspec": {
   "display_name": "Python 3",
   "language": "python",
   "name": "python3"
  },
  "language_info": {
   "codemirror_mode": {
    "name": "ipython",
    "version": 3
   },
   "file_extension": ".py",
   "mimetype": "text/x-python",
   "name": "python",
   "nbconvert_exporter": "python",
   "pygments_lexer": "ipython3",
   "version": "3.7.6"
  }
 },
 "nbformat": 4,
 "nbformat_minor": 4
}
